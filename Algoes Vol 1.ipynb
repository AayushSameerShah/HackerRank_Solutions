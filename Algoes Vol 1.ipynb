{
 "metadata": {
  "language_info": {
   "codemirror_mode": {
    "name": "ipython",
    "version": 3
   },
   "file_extension": ".py",
   "mimetype": "text/x-python",
   "name": "python",
   "nbconvert_exporter": "python",
   "pygments_lexer": "ipython3",
   "version": "3.8.5"
  },
  "orig_nbformat": 2,
  "kernelspec": {
   "name": "python3",
   "display_name": "Python 3",
   "language": "python"
  }
 },
 "nbformat": 4,
 "nbformat_minor": 2,
 "cells": [
  {
   "source": [
    "## This notebook presents my approaches to work out some of the problems from *HackerRank*\n",
    "*(Apologies, I have not made this notebook it so readable)*"
   ],
   "cell_type": "markdown",
   "metadata": {}
  },
  {
   "cell_type": "code",
   "execution_count": 7,
   "metadata": {},
   "outputs": [
    {
     "output_type": "stream",
     "name": "stdout",
     "text": [
      "7 1 0\n10 2 5\n6 5 9\n9 9 9\n1 23 12\n"
     ]
    }
   ],
   "source": [
    "def AtheleanSort(arr, k):\n",
    "    for row in sorted(arr, key = lambda row: row[k]):\n",
    "        print(*row)\n",
    "\n",
    "\n",
    "AtheleanSort([[10, 2, 5], [7, 1, 0], [9, 9, 9], [1, 23, 12], [6, 5, 9]], 1)"
   ]
  },
  {
   "source": [
    "# "
   ],
   "cell_type": "markdown",
   "metadata": {}
  },
  {
   "cell_type": "code",
   "execution_count": 27,
   "metadata": {},
   "outputs": [
    {
     "output_type": "stream",
     "name": "stdout",
     "text": [
      "0.8333333333333334\n"
     ]
    }
   ],
   "source": [
    "import itertools\n",
    "\n",
    "def findProb(query, k):\n",
    "    combinations = list(itertools.combinations(query, k))\n",
    "    count = 0\n",
    "\n",
    "    for _ in combinations:\n",
    "        if 'a' in _:\n",
    "            count+=1\n",
    "            \n",
    "\n",
    "    print(count / len(combinations))\n",
    "    \n",
    "findProb(['a', 'a', 'c', 'd'], 2)"
   ]
  },
  {
   "source": [],
   "cell_type": "markdown",
   "metadata": {}
  },
  {
   "cell_type": "code",
   "execution_count": 24,
   "metadata": {},
   "outputs": [
    {
     "output_type": "execute_result",
     "data": {
      "text/plain": [
       "21"
      ]
     },
     "metadata": {},
     "execution_count": 24
    }
   ],
   "source": [
    "len(list(itertools.combinations([1,2,3,4,4,4,5], 2)))"
   ]
  },
  {
   "cell_type": "code",
   "execution_count": 29,
   "metadata": {},
   "outputs": [],
   "source": [
    "from fractions import Fraction"
   ]
  },
  {
   "cell_type": "code",
   "execution_count": 37,
   "metadata": {},
   "outputs": [],
   "source": [
    "aa = Fraction(6,3) * Fraction(6,3)"
   ]
  },
  {
   "cell_type": "code",
   "execution_count": 39,
   "metadata": {},
   "outputs": [
    {
     "output_type": "execute_result",
     "data": {
      "text/plain": [
       "4"
      ]
     },
     "metadata": {},
     "execution_count": 39
    }
   ],
   "source": [
    "aa.numerator"
   ]
  },
  {
   "cell_type": "code",
   "execution_count": 40,
   "metadata": {},
   "outputs": [],
   "source": [
    "from math import sqrt"
   ]
  },
  {
   "cell_type": "code",
   "execution_count": 41,
   "metadata": {},
   "outputs": [
    {
     "output_type": "execute_result",
     "data": {
      "text/plain": [
       "5.196152422706632"
      ]
     },
     "metadata": {},
     "execution_count": 41
    }
   ],
   "source": [
    "sqrt(27)"
   ]
  },
  {
   "cell_type": "code",
   "execution_count": 87,
   "metadata": {},
   "outputs": [
    {
     "output_type": "stream",
     "name": "stdout",
     "text": [
      "not here\n"
     ]
    },
    {
     "output_type": "execute_result",
     "data": {
      "text/plain": [
       "'isieae fdtonf fotrga anoyec cttctt tfhhhs'"
      ]
     },
     "metadata": {},
     "execution_count": 87
    }
   ],
   "source": [
    "\n",
    "import math\n",
    "\n",
    "def encryption(string):\n",
    "    string = ''.join(string.strip().split(' '))\n",
    "    L = len(string)\n",
    "    sqrt = math.sqrt(L)\n",
    "    if math.floor(sqrt) == sqrt:\n",
    "        print('not here')\n",
    "        before = after = int(sqrt)\n",
    "    else:\n",
    "        before = math.floor(sqrt)\n",
    "        after = before + 1\n",
    "        print(L, before, after)\n",
    "        if before * after < L:\n",
    "            before = after = max([before, after])\n",
    "    \n",
    "    s = ''\n",
    "    for starting in range(after):\n",
    "        s += ' ' + string[starting::after]\n",
    "    \n",
    "    return s.strip()\n",
    "\n",
    "\n",
    "encryption('iffactsdontfittotheorychangethefacts')"
   ]
  },
  {
   "cell_type": "code",
   "execution_count": null,
   "metadata": {},
   "outputs": [],
   "source": [
    "isieae fdtonf fotrga anoyec cttctt tfhhhs"
   ]
  },
  {
   "cell_type": "code",
   "execution_count": 84,
   "metadata": {},
   "outputs": [
    {
     "output_type": "execute_result",
     "data": {
      "text/plain": [
       "True"
      ]
     },
     "metadata": {},
     "execution_count": 84
    }
   ],
   "source": [
    "7.0 == 7"
   ]
  },
  {
   "source": [
    "# Time in words #DONE"
   ],
   "cell_type": "markdown",
   "metadata": {}
  },
  {
   "cell_type": "code",
   "execution_count": 101,
   "metadata": {},
   "outputs": [],
   "source": [
    "def timeInWords(h, m):\n",
    "    singles = {'0': '',\n",
    "                '1': 'one',\n",
    "                '2': 'two',\n",
    "                '3': 'three',\n",
    "                '4': 'four',\n",
    "                '5': 'five',\n",
    "                '6': 'six',\n",
    "                '7': 'seven',\n",
    "                '8': 'eight',\n",
    "                '9': 'nine',\n",
    "                }\n",
    "    elevens = {'10': 'ten',\n",
    "               '11': 'eleven',\n",
    "               '12': 'twelve',\n",
    "               '13': 'thirteen',\n",
    "               '14': 'fourteen',\n",
    "               '15': 'fifteen',\n",
    "               '16': 'sixteen',\n",
    "               '17': 'seventeen',\n",
    "               '18': 'eighteen',\n",
    "               '19': 'nineteen',\n",
    "                }\n",
    "    tys = {'2': 'twenty',\n",
    "            '3': 'thirty',\n",
    "            '4': 'fourty',\n",
    "            '5': 'fifty'}\n",
    "\n",
    "    def getWord(time):\n",
    "        if len(time) == 1 or time[0] == '0':   \n",
    "            return singles.get(time[-1])\n",
    "        elif time[0] == '1':\n",
    "            return elevens.get(time)\n",
    "        else:\n",
    "            return tys.get(time[0]) + ' ' + singles.get(time[1])\n",
    " \n",
    "    def getMinutes(m):\n",
    "        time = getWord(m)\n",
    "        if time == 'one':\n",
    "            return time + ' ' + 'minute'\n",
    "        return time + ' ' + 'minutes'\n",
    "    \n",
    "    def getHour(h):\n",
    "        time = getWord(h)\n",
    "        return time\n",
    "    \n",
    "    if int(m) == 0:\n",
    "        return getHour(h) + \" o' clock\"\n",
    "    elif int(m) == 15:\n",
    "        return 'quarter past ' + getHour(h)\n",
    "    elif int(m) == 30:\n",
    "        return 'half past ' + getHour(h)\n",
    "    elif int(m) == 45:\n",
    "        return 'quarter to ' + getHour(str(int(h)+1))\n",
    "    elif int(m) > 30:\n",
    "        return getMinutes(str(60 - int(m))) + ' to ' + getHour(str(int(h)+1))\n",
    "    else:\n",
    "        return getMinutes(m) + ' past ' + getHour(h)"
   ]
  },
  {
   "cell_type": "code",
   "execution_count": 100,
   "metadata": {},
   "outputs": [
    {
     "output_type": "execute_result",
     "data": {
      "text/plain": [
       "'half pasttwo'"
      ]
     },
     "metadata": {},
     "execution_count": 100
    }
   ],
   "source": [
    "timeInWords('2','30')"
   ]
  },
  {
   "source": [
    "# New ones"
   ],
   "cell_type": "markdown",
   "metadata": {}
  },
  {
   "cell_type": "code",
   "execution_count": 35,
   "metadata": {
    "tags": []
   },
   "outputs": [],
   "source": [
    "from itertools import combinations\n",
    "def acmTeam(topic):\n",
    "    teams = list(combinations(range(len(topic)), 2))\n",
    "    rankings = []\n",
    "    for p1, p2 in teams:\n",
    "        total = 0\n",
    "        for subject in zip(topic[p1], topic[p2]):\n",
    "            if '1' in subject:\n",
    "                total += 1\n",
    "        rankings.append(total)\n",
    "\n",
    "    max_ = max(rankings)\n",
    "    # print(max_, rankings.count(max_), sep='\\n')\n",
    "    \n",
    "acmTeam(['10101', '11100', '11010', '00101'] * 500)\n"
   ]
  },
  {
   "cell_type": "code",
   "execution_count": 49,
   "metadata": {},
   "outputs": [
    {
     "output_type": "execute_result",
     "data": {
      "text/plain": [
       "(5, 500000)"
      ]
     },
     "metadata": {},
     "execution_count": 49
    }
   ],
   "source": [
    "from itertools import combinations\n",
    "def convert(string, base):\n",
    "    return int(string, base = base)\n",
    "\n",
    "def acmTeam(topic):\n",
    "    teams = list(combinations(range(len(topic)), 2))\n",
    "    rankings = []\n",
    "    for p1, p2 in teams:\n",
    "        rankings.append(bin(convert(topic[p1], 2) | convert(topic[p2], 2)).count('1'))\n",
    "        \n",
    "\n",
    "    max_ = max(rankings)\n",
    "    return max_, rankings.count(max_)\n",
    "acmTeam(['10101', '11100', '11010', '00101'] * 500)\n"
   ]
  },
  {
   "cell_type": "code",
   "execution_count": 23,
   "metadata": {},
   "outputs": [
    {
     "output_type": "execute_result",
     "data": {
      "text/plain": [
       "2"
      ]
     },
     "metadata": {},
     "execution_count": 23
    }
   ],
   "source": [
    "max_ = max([4, 5, 3, 4, 4, 5])\n",
    "[4, 5, 3, 4, 4, 5].count(max_)"
   ]
  },
  {
   "source": [
    "## Gridsearch is not completed"
   ],
   "cell_type": "markdown",
   "metadata": {}
  },
  {
   "cell_type": "code",
   "execution_count": null,
   "metadata": {},
   "outputs": [],
   "source": [
    "# print(f\"Pattern: {p_row} x {p_col}\", f'Sub: {s_row} x {s_col}', sep= '\\n')"
   ]
  },
  {
   "cell_type": "code",
   "execution_count": 83,
   "metadata": {},
   "outputs": [],
   "source": [
    "def gridSearch(pattern, sub):\n",
    "    p_row = len(pattern)\n",
    "    p_col = len(pattern[0])\n",
    "\n",
    "    s_row = len(sub)\n",
    "    s_col = len(sub[0])\n",
    "\n",
    "    stop_row = p_row - s_row\n",
    "    stop_col = p_row - s_col\n",
    "\n",
    "    anchor = sub[0][0]\n",
    "\n",
    "    def found(anchor_at_row, anchor_at_col):\n",
    "        for i in range(s_row):\n",
    "            for j in range(s_col):\n",
    "                print(' ', sub[i][j], pattern[anchor_at_row + i][anchor_at_col + j], end='')\n",
    "                if sub[i][j] != pattern[anchor_at_row + i][anchor_at_col + j]:\n",
    "                    return False\n",
    "            print()\n",
    "        return True\n",
    "\n",
    "    for row in range(stop_row + 1):\n",
    "        for col in range(stop_col + 1):\n",
    "            if anchor == pattern[row][col]:\n",
    "                if found(row, col):\n",
    "                    return True \n",
    "            \n",
    "        if (row, col) == (stop_row, stop_col):\n",
    "            return False"
   ]
  },
  {
   "cell_type": "code",
   "execution_count": 85,
   "metadata": {},
   "outputs": [
    {
     "output_type": "execute_result",
     "data": {
      "text/plain": [
       "False"
      ]
     },
     "metadata": {},
     "execution_count": 85
    }
   ],
   "source": [
    "gridSearch(['1234', '5678', '1234', '5678'],\n",
    "           ['478', '234'])"
   ]
  },
  {
   "cell_type": "code",
   "execution_count": 86,
   "metadata": {},
   "outputs": [
    {
     "output_type": "stream",
     "name": "stdout",
     "text": [
      "  9 9  5 8  9 9  5 3  9 9  5 5  0 0  5 5\n  3 3  8 8  4 4  5 5\n  3 3  5 5  3 3  0 0\n"
     ]
    },
    {
     "output_type": "execute_result",
     "data": {
      "text/plain": [
       "True"
      ]
     },
     "metadata": {},
     "execution_count": 86
    }
   ],
   "source": [
    "gridSearch(['7283455864', '6731158619', '8988242643', '3830589324', '2229505813', '5633845374', '6473530293', '7053106601', '0834282956', '4607924137'],\n",
    "['9505', '3845', '3530'])"
   ]
  },
  {
   "cell_type": "code",
   "execution_count": 87,
   "metadata": {},
   "outputs": [
    {
     "output_type": "stream",
     "name": "stdout",
     "text": [
      "  1 1  2 2\n  3 5  1 1  2 2\n  3 3  4 6  1 1  2 2\n  3 7"
     ]
    },
    {
     "output_type": "execute_result",
     "data": {
      "text/plain": [
       "False"
      ]
     },
     "metadata": {},
     "execution_count": 87
    }
   ],
   "source": [
    "gridSearch(\n",
    "['123412',\n",
    " '561212',\n",
    " '123634',\n",
    " '781288'],\n",
    "[\n",
    "    '12',\n",
    "    '34'\n",
    "])"
   ]
  },
  {
   "source": [],
   "cell_type": "markdown",
   "metadata": {}
  },
  {
   "source": [
    "#  Chocolate Feast #DONE"
   ],
   "cell_type": "markdown",
   "metadata": {}
  },
  {
   "cell_type": "code",
   "execution_count": 134,
   "metadata": {},
   "outputs": [],
   "source": [
    "def chocolateFeast(pocket, cost, exchange):\n",
    "    wrappers = pocket // cost\n",
    "    eaten = wrappers\n",
    "\n",
    "    while (wrappers not in [0, 1]) and wrappers >= exchange:\n",
    "        new = wrappers // exchange\n",
    "        eaten += new\n",
    "        wrappers %= exchange\n",
    "        wrappers += new\n",
    "    return eaten"
   ]
  },
  {
   "cell_type": "code",
   "execution_count": 137,
   "metadata": {},
   "outputs": [
    {
     "output_type": "execute_result",
     "data": {
      "text/plain": [
       "5"
      ]
     },
     "metadata": {},
     "execution_count": 137
    }
   ],
   "source": [
    "chocolateFeast(6, 2, 2)"
   ]
  },
  {
   "source": [
    "# Climbing Leaderboard #DONE"
   ],
   "cell_type": "markdown",
   "metadata": {}
  },
  {
   "cell_type": "code",
   "execution_count": 14,
   "metadata": {},
   "outputs": [],
   "source": [
    "def get_rank(board, curr_pos, rank):\n",
    "    while (curr_pos != 0) and (board[curr_pos - 1] <= rank):\n",
    "        curr_pos -= 1\n",
    "    return curr_pos\n"
   ]
  },
  {
   "cell_type": "code",
   "execution_count": 17,
   "metadata": {},
   "outputs": [],
   "source": [
    "def climbingLeaderboard(board, player):\n",
    "    board = sorted(list(set(board)), reverse= True)\n",
    "    board.append('')\n",
    "    print(board)\n",
    "\n",
    "    curr_pos = len(board) - 1\n",
    "\n",
    "    positions = []\n",
    "    for rank in player:\n",
    "        curr_pos = get_rank(board, curr_pos, rank)\n",
    "        positions.append(curr_pos + 1)\n",
    "    \n",
    "    return positions\n"
   ]
  },
  {
   "cell_type": "code",
   "execution_count": 18,
   "metadata": {},
   "outputs": [
    {
     "output_type": "stream",
     "name": "stdout",
     "text": [
      "[100, 50, 40, 20, 10, '']\n"
     ]
    },
    {
     "output_type": "execute_result",
     "data": {
      "text/plain": [
       "[6, 4, 2, 1]"
      ]
     },
     "metadata": {},
     "execution_count": 18
    }
   ],
   "source": [
    "climbingLeaderboard([100, 100, 50, 40, 40, 20, 10], [5, 25, 50, 120])\n"
   ]
  },
  {
   "cell_type": "code",
   "execution_count": 19,
   "metadata": {},
   "outputs": [
    {
     "output_type": "stream",
     "name": "stdout",
     "text": [
      "[100, 90, 80, '']\n"
     ]
    },
    {
     "output_type": "execute_result",
     "data": {
      "text/plain": [
       "[4, 3, 1]"
      ]
     },
     "metadata": {},
     "execution_count": 19
    }
   ],
   "source": [
    "climbingLeaderboard([100, 90, 90, 80], [70, 80, 105])\n"
   ]
  },
  {
   "source": [
    "# Extra Long factorials #DONE"
   ],
   "cell_type": "markdown",
   "metadata": {}
  },
  {
   "cell_type": "code",
   "execution_count": 24,
   "metadata": {},
   "outputs": [],
   "source": [
    "def extraLongFactorials(n):\n",
    "    if n == 1:\n",
    "        return n\n",
    "    else:\n",
    "        return extraLongFactorials(n - 1) * n"
   ]
  },
  {
   "cell_type": "code",
   "execution_count": 27,
   "metadata": {},
   "outputs": [
    {
     "output_type": "execute_result",
     "data": {
      "text/plain": [
       "15511210043330985984000000"
      ]
     },
     "metadata": {},
     "execution_count": 27
    }
   ],
   "source": [
    "extraLongFactorials(25)"
   ]
  },
  {
   "source": [],
   "cell_type": "markdown",
   "metadata": {}
  },
  {
   "source": [
    "# Some workaround - 2D (Dot multiplication)"
   ],
   "cell_type": "markdown",
   "metadata": {}
  },
  {
   "cell_type": "code",
   "execution_count": 2,
   "metadata": {},
   "outputs": [
    {
     "output_type": "execute_result",
     "data": {
      "text/plain": [
       "[[10327, 5049, 11236, 9426],\n",
       " [7958, 2922, 8948, 6432],\n",
       " [1098, 278, 1272, 780],\n",
       " [12791, 4249, 14516, 9954]]"
      ]
     },
     "metadata": {},
     "execution_count": 2
    }
   ],
   "source": [
    "import numpy as np \n",
    "\n",
    "def math_on_2d(mat1, mat2, operation= None):\n",
    "    if operation == '.':\n",
    "        if len(mat1) != len(mat2[0]): print('To make matmul, you need Row and Col matching'); return False\n",
    "        total = []\n",
    "        for i in range(len(mat1)):\n",
    "            row = []\n",
    "            for j in range(len(mat1)):\n",
    "                summer = 0\n",
    "                for k in range(len(mat2)):\n",
    "                    summer += mat1[i][k] * mat2[k][j]\n",
    "                row.append(summer)\n",
    "            total.append(row)\n",
    "        return total\n",
    "    \n",
    "    elif operation != None:\n",
    "        if (len(mat1) == len(mat2)) and (len(mat1[0] == len(mat2[0]))):\n",
    "            return [[eval(str(f\"{mat1[i][j]} {operation} {mat2[i][j]}\")) for j in range(len(mat2[0]))] for i in range(len(mat1))]\n",
    "        else:\n",
    "            print('Did you know you can only do some operation when both metrices are of same length?')\n",
    "    else:\n",
    "        print('Please choose some operation on your 2 matrices! Man! How Dumb!')\n",
    "\n",
    "a = np.random.randint(0, 100, (2,4))\n",
    "b = np.random.randint(0, 100, (4,2))\n",
    "math_on_2d(b, a, '.')"
   ]
  },
  {
   "cell_type": "code",
   "execution_count": null,
   "metadata": {},
   "outputs": [],
   "source": []
  }
 ]
}