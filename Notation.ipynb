{
 "cells": [
  {
   "cell_type": "markdown",
   "metadata": {},
   "source": [
    "$$ {x_1 = 10,} {\\ \\ \\ \\ } { x_2 = 20,} {\\ \\ \\ \\ } {x_3 = 45,} { \\ \\ \\ \\ } {x_4 = 12,} {\\ \\ \\ \\ } {x_5 = 8} $$"
   ]
  },
  {
   "cell_type": "markdown",
   "metadata": {},
   "source": [
    "$$ P( X \\geq 20 )? $$"
   ]
  },
  {
   "cell_type": "markdown",
   "metadata": {},
   "source": [
    "$$ {x_1} + {x_2} + {x_3} $$"
   ]
  },
  {
   "cell_type": "markdown",
   "metadata": {},
   "source": [
    "$$ x_1=100,\\ \\ x_2=20, \\ \\ x_3=45, \\ \\ x_4=12, \\ \\ x_5=8, \\ \\ x_6=12, \\ \\ x_7=3, \\ \\ x_8=68, \\ \\ x_9=5 $$\n"
   ]
  },
  {
   "cell_type": "markdown",
   "metadata": {},
   "source": [
    "$$ \\sum\\limits_{i = 1}^3 x_i $$\n"
   ]
  },
  {
   "cell_type": "markdown",
   "metadata": {},
   "source": [
    "$$ \\sum\\limits_{i = 1}^3 x_i = {x_1} + {x_2} + {x_3} = 10 + 20 + 45 = 75 $$"
   ]
  },
  {
   "cell_type": "markdown",
   "metadata": {},
   "source": [
    "$$ \\sum\\limits_{i = 7}^9 x_i. $$"
   ]
  },
  {
   "cell_type": "markdown",
   "metadata": {},
   "source": [
    "$$ \\frac{1}{n}\\sum\\limits_{i=1}^nx_i $$"
   ]
  },
  {
   "cell_type": "markdown",
   "metadata": {},
   "source": [
    "$$ \\bar{x} $$"
   ]
  },
  {
   "cell_type": "markdown",
   "metadata": {},
   "source": [
    "$$ \\sum\\limits_{i=1}^5 x_i = x_1 + x_2 + x_3 + x_4 + x_5 $$"
   ]
  },
  {
   "cell_type": "markdown",
   "metadata": {},
   "source": [
    "$$ A. n \\ \\ \\ \\ \\ B. \\sum\\limits_{i=1}^n {x_i} \\ \\ \\ \\ \\ C. \\sum\\limits_{j=2}^7 {x_j}+7 \\ \\ \\ \\ \\ \\ D. x_5 \\ \\ \\ \\ \\ \\ E. \\frac {\\sum\\limits_{i=3}^6{x_i} } {n-1}$$\n"
   ]
  },
  {
   "cell_type": "markdown",
   "metadata": {},
   "source": [
    "$$ \\bar x_c = \\frac {n_1\\bar x_1 + n_2\\bar x_2} {n_1 + n_2} $$"
   ]
  },
  {
   "cell_type": "markdown",
   "metadata": {},
   "source": [
    "$$ S_c = \\sqrt { \\frac { n_1 (s_1^2 + d_1^2) + n_2 (s_2^2 + d_2^2)  } { n_1 + n_2 } }$$"
   ]
  },
  {
   "cell_type": "markdown",
   "metadata": {},
   "source": [
    "$$ p(y | X) = \\frac {p(X | y) \\cdot p(y)} {p(X)}  $$"
   ]
  },
  {
   "cell_type": "code",
   "execution_count": null,
   "metadata": {},
   "outputs": [],
   "source": []
  }
 ],
 "metadata": {
  "kernelspec": {
   "display_name": "Python 3",
   "language": "python",
   "name": "python3"
  },
  "language_info": {
   "codemirror_mode": {
    "name": "ipython",
    "version": 3
   },
   "file_extension": ".py",
   "mimetype": "text/x-python",
   "name": "python",
   "nbconvert_exporter": "python",
   "pygments_lexer": "ipython3",
   "version": "3.8.5"
  }
 },
 "nbformat": 4,
 "nbformat_minor": 4
}
